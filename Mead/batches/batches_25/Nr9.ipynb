{
 "cells": [
  {
   "cell_type": "markdown",
   "metadata": {},
   "source": [
    "# Kjartan Redo, Traditional , \\#9\n",
    "\n",
    "Total Volume: 5L\n",
    "\n",
    "Ingredients:\n",
    "\n",
    "- Honey: 1.4KG Kjartans Tyttebær og Blåbær Honning\n",
    "- Dilution: Water\n",
    "- Yeast: Kveik Stalljen (esters are tropical fruit, mango and pineapple, hint of orange and lemon.)\n",
    "\n",
    "Feeding Stages:\n",
    "\n",
    "- Day 0: Half teaspoon Fermaid O\n",
    "- Day 1: Degass\n",
    "- Day 2: Half teaspoon Fermaid O, Degass\n",
    "- Day 3: Degass\n",
    "- Day 4: Half teaspoon Fermaid O, Degass\n",
    "\n"
   ]
  }
 ],
 "metadata": {
  "kernelspec": {
   "display_name": "env_qiskit",
   "language": "python",
   "name": "env_qiskit"
  },
  "language_info": {
   "codemirror_mode": {
    "name": "ipython",
    "version": 3
   },
   "file_extension": ".py",
   "mimetype": "text/x-python",
   "name": "python",
   "nbconvert_exporter": "python",
   "pygments_lexer": "ipython3",
   "version": "3.10.4"
  }
 },
 "nbformat": 4,
 "nbformat_minor": 4
}
