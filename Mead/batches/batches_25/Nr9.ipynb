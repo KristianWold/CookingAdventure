{
 "cells": [
  {
   "cell_type": "markdown",
   "metadata": {},
   "source": [
    "# Kjartan Redo, Traditional , \\#9\n",
    "\n",
    "Redo of batch \\#4, focusing on proper nutrient, feeding schedule, and oaking.\n",
    "\n",
    "## Ingredients:\n",
    "\n",
    "**Total Volume:** 5L\n",
    "\n",
    "- Honey: 1.4KG Kjartans Tyttebær og Blåbær Honning\n",
    "- Dilution: Water\n",
    "- Yeast: Kveik Stalljen (esters are tropical fruit, mango and pineapple, hint of orange and lemon.)\n"
   ]
  },
  {
   "cell_type": "markdown",
   "metadata": {},
   "source": [
    "## Schedule\n",
    "\n",
    "**Start date:** 09.01.2025\n",
    "\n",
    "**OG:** 1.085 (Traditional) \n",
    "\n",
    "Feeding Stages:\n",
    "\n",
    "- Day 0: Half teaspoon Fermaid O\n",
    "- Day 1: Degass\n",
    "- Day 2: Half teaspoon Fermaid O, Degass\n",
    "- Day 3: Degass\n",
    "- Day 4: Half teaspoon Fermaid O, Degass\n",
    "\n",
    "**Check SG, 18.01.2025:**\n",
    "- Gravity 1.05. Suspected stalled. \n",
    "- Degassed and added 0.5tsp Fermaid O to try to kickstart again.\n",
    "\n",
    "**Racked, 01.02.2025:**  \n",
    "- FG: 1.01 -> 9.8%\n",
    "- Treated with one tablet Campden\n",
    "\n",
    "**Split:**\n",
    "- 0.5L plain\n",
    "- 2.25L french oak\n",
    "- 2.25L american oak  "
   ]
  },
  {
   "cell_type": "markdown",
   "metadata": {},
   "source": [
    "## Reflections\n",
    "\n",
    "Initial taste is very similar to batch \\#4. A bit dryer, maybe. Suspect more complete fermentation due to better nutrients and degassing.\n",
    "\n",
    "Also testing american and french oak in campden treated water to test infusion speed and taste profile. After 8 hours, both taste distinctly woody. American a little sweeter."
   ]
  }
 ],
 "metadata": {
  "kernelspec": {
   "display_name": "env_qiskit",
   "language": "python",
   "name": "env_qiskit"
  },
  "language_info": {
   "codemirror_mode": {
    "name": "ipython",
    "version": 3
   },
   "file_extension": ".py",
   "mimetype": "text/x-python",
   "name": "python",
   "nbconvert_exporter": "python",
   "pygments_lexer": "ipython3",
   "version": "3.10.4"
  }
 },
 "nbformat": 4,
 "nbformat_minor": 4
}
