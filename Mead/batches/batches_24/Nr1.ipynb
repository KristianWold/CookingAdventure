{
 "cells": [
  {
   "cell_type": "markdown",
   "metadata": {},
   "source": [
    "# The First , \\#1\n",
    "\n",
    "Total Volume: 5L\n",
    "\n",
    "Ingredients:\n",
    "\n",
    "- Honey: 1.5KG Honningcentralen Norsk Honning\n",
    "- Dilution: Water\n",
    "- Yeast: Kveik Voss (esters are orange, mandarin and citrus, with hint of tropic fruit and spice)\n",
    "- Yeast nutrient: Boiled bread yeast, amount not noted."
   ]
  }
 ],
 "metadata": {
  "kernelspec": {
   "display_name": "env_qiskit",
   "language": "python",
   "name": "env_qiskit"
  },
  "language_info": {
   "codemirror_mode": {
    "name": "ipython",
    "version": 3
   },
   "file_extension": ".py",
   "mimetype": "text/x-python",
   "name": "python",
   "nbconvert_exporter": "python",
   "pygments_lexer": "ipython3",
   "version": "3.10.4"
  }
 },
 "nbformat": 4,
 "nbformat_minor": 4
}
